{
  "nbformat": 4,
  "nbformat_minor": 0,
  "metadata": {
    "colab": {
      "provenance": [],
      "authorship_tag": "ABX9TyPCzyU+svoDBRgKJ2mAgK6o",
      "include_colab_link": true
    },
    "kernelspec": {
      "name": "python3",
      "display_name": "Python 3"
    },
    "language_info": {
      "name": "python"
    }
  },
  "cells": [
    {
      "cell_type": "markdown",
      "metadata": {
        "id": "view-in-github",
        "colab_type": "text"
      },
      "source": [
        "<a href=\"https://colab.research.google.com/github/CarlosCordova2023/Clases_M4_S2_Eva/blob/main/Clases_M4_S2_Eva.ipynb\" target=\"_parent\"><img src=\"https://colab.research.google.com/assets/colab-badge.svg\" alt=\"Open In Colab\"/></a>"
      ]
    },
    {
      "cell_type": "code",
      "execution_count": 2,
      "metadata": {
        "colab": {
          "base_uri": "https://localhost:8080/"
        },
        "id": "KqW0IkSPRsaE",
        "outputId": "bbf07ad8-52fa-4d7b-bb8c-286a7ed29674"
      },
      "outputs": [
        {
          "output_type": "stream",
          "name": "stdout",
          "text": [
            "Información de Persona 1 actualizada:\n",
            "Nombre: Pedro\n",
            "Apellidos: Vivas\n",
            "Sexo: Masculino\n",
            "Edad: 21 años\n",
            "Estatura: 1.78 mts\n",
            "Peso: 68 kg\n",
            "\n",
            "Información de Persona 2 actualizada:\n",
            "Nombre: Juan\n",
            "Apellidos: Santiago\n",
            "Sexo: Masculino\n",
            "Edad: 18 años\n",
            "Estatura: 1.8 mts\n",
            "Peso: 75 kg\n"
          ]
        }
      ],
      "source": [
        "class Persona:\n",
        "    def __init__(self, nombre, apellidos, sexo, edad, estatura, peso):\n",
        "        self._nombre = nombre\n",
        "        self._apellidos = apellidos\n",
        "        self._sexo = sexo\n",
        "        self._edad = edad\n",
        "        self._estatura = estatura\n",
        "        self._peso = peso\n",
        "\n",
        "\n",
        "    def get_nombre(self):\n",
        "        return self._nombre\n",
        "\n",
        "    def get_apellidos(self):\n",
        "        return self._apellidos\n",
        "\n",
        "    def get_sexo(self):\n",
        "        return self._sexo\n",
        "\n",
        "    def get_edad(self):\n",
        "        return self._edad\n",
        "\n",
        "    def get_estatura(self):\n",
        "        return self._estatura\n",
        "\n",
        "    def get_peso(self):\n",
        "        return self._peso\n",
        "\n",
        "    # Métodos set\n",
        "    def set_nombre(self, nombre):\n",
        "        self._nombre = nombre\n",
        "\n",
        "    def set_apellidos(self, apellidos):\n",
        "        self._apellidos = apellidos\n",
        "\n",
        "    def set_sexo(self, sexo):\n",
        "        self._sexo = sexo\n",
        "\n",
        "    def set_edad(self, edad):\n",
        "        self._edad = edad\n",
        "\n",
        "    def set_estatura(self, estatura):\n",
        "        self._estatura = estatura\n",
        "\n",
        "    def set_peso(self, peso):\n",
        "        self._peso = peso\n",
        "\n",
        "    # Método para mostrar información\n",
        "    def mostrar_informacion(self):\n",
        "        print(f\"Nombre: {self._nombre}\")\n",
        "        print(f\"Apellidos: {self._apellidos}\")\n",
        "        print(f\"Sexo: {self._sexo}\")\n",
        "        print(f\"Edad: {self._edad} años\")\n",
        "        print(f\"Estatura: {self._estatura} mts\")\n",
        "        print(f\"Peso: {self._peso} kg\")\n",
        "\n",
        "\n",
        "persona_1 = Persona(\"Pedro\", \"Vivas\", \"Masculino\", 20, 1.78, 68)\n",
        "persona_2 = Persona(\"Juan\", \"Camargo\", \"Masculino\", 18, 1.8, 75)\n",
        "\n",
        "# Modificar los atributos según lo solicitado\n",
        "persona_1.set_edad(21)\n",
        "persona_2.set_apellidos(\"Santiago\")\n",
        "\n",
        "\n",
        "print(\"Información de Persona 1 actualizada:\")\n",
        "persona_1.mostrar_informacion()\n",
        "\n",
        "print(\"\\nInformación de Persona 2 actualizada:\")\n",
        "persona_2.mostrar_informacion()\n"
      ]
    }
  ]
}